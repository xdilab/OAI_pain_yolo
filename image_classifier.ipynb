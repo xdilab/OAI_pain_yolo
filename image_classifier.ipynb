{
 "cells": [
  {
   "cell_type": "code",
   "execution_count": 1,
   "id": "892c86c7-1222-48f7-a521-723a8b4031f6",
   "metadata": {},
   "outputs": [
    {
     "data": {
      "text/plain": [
       "'/Users/huntersylvester/Desktop/UMMC/Research/Moradi'"
      ]
     },
     "execution_count": 1,
     "metadata": {},
     "output_type": "execute_result"
    }
   ],
   "source": [
    "pwd"
   ]
  },
  {
   "cell_type": "code",
   "execution_count": 49,
   "id": "92d3aa7d-3d5e-48b8-a450-c8136be745f7",
   "metadata": {},
   "outputs": [
    {
     "name": "stdout",
     "output_type": "stream",
     "text": [
      "10\n",
      "11\n",
      "11\n",
      "11\n",
      "11\n",
      "11\n",
      "11\n",
      "11\n",
      "11\n",
      "11\n",
      "11\n",
      "11\n",
      "11\n",
      "11\n",
      "11\n",
      "11\n",
      "11\n",
      "11\n",
      "11\n",
      "11\n",
      "11\n",
      "11\n",
      "11\n",
      "11\n",
      "11\n",
      "11\n",
      "11\n",
      "11\n",
      "11\n",
      "11\n",
      "11\n",
      "11\n",
      "11\n",
      "11\n",
      "11\n",
      "11\n",
      "11\n",
      "11\n",
      "11\n",
      "11\n",
      "11\n",
      "11\n",
      "11\n",
      "11\n",
      "11\n",
      "11\n",
      "11\n",
      "11\n",
      "11\n",
      "11\n",
      "11\n",
      "11\n",
      "11\n",
      "11\n",
      "11\n",
      "11\n",
      "11\n",
      "11\n",
      "58 11 384 384\n",
      "58 384 384 11\n",
      "<class 'numpy.ndarray'> <class 'numpy.ndarray'> <class 'numpy.ndarray'> <class 'numpy.ndarray'>\n",
      "58\n"
     ]
    }
   ],
   "source": [
    "import fnmatch\n",
    "import glob\n",
    "import os\n",
    "# ! pip install natsort\n",
    "from natsort import natsorted\n",
    "from PIL import Image\n",
    "import numpy as np\n",
    "import tensorflow as tf\n",
    "\n",
    "\n",
    "# Empty list to store numpy arrays\n",
    "image_list = []\n",
    "y = []\n",
    "\n",
    "# lets us know number of images in that file\n",
    "# dirpath = \"/Users/huntersylvester/Desktop/UMMC/Research/Moradi/sample_knee_mri_localization/9009067_10287112_R_Progressed\"\n",
    "dirpath = \"C:\\\\Users\\\\hrmor\\\\OneDrive - University of Mississippi Medical Center\\\\04_Codes\\\\OAI_pain\\\\knee_mri_localization\"\n",
    "num_layers = len(fnmatch.filter(os.listdir(dirpath), '*.jpg'))\n",
    "# print(num_layers)\n",
    "\n",
    "\n",
    "# directory = \"/Users/huntersylvester/Desktop/UMMC/Research/Moradi/knee_mri_localization\"\n",
    "directory = \"C:\\\\Users\\\\hrmor\\\\OneDrive - University of Mississippi Medical Center\\\\04_Codes\\\\OAI_pain\\\\knee_mri_localization\"\n",
    "for filename in glob.iglob(f\"{directory}/*\"):\n",
    "    i = 0\n",
    "    os.chdir(filename)\n",
    "    x = filename.find('_NotProgressed')  # Will give -1 if phrase not in string\n",
    "    if x > 0:\n",
    "        y.append(0)  # non progressed 0\n",
    "    else:\n",
    "        y.append(1)  # progressed 1\n",
    "    image_patient = []\n",
    "    for file in natsorted(glob.glob(\"*.jpg\")):\n",
    "        i += 1\n",
    "        im = Image.open(file)\n",
    "        image_patient.append(np.array(im))\n",
    "        if i != num_layers:\n",
    "            pass\n",
    "        else:\n",
    "            print(f\"number of layers: {i}\")\n",
    "    print(i)\n",
    "    image_list.append(np.array(image_patient))\n",
    "\n",
    "# image_list = np.array(image_list, dtype=object)\n",
    "# image_list = np.array(image_list, dtype=object)\n",
    "\n",
    "print(len(image_list), len(image_list[1]), len(image_list[1][0]),len(image_list[1][0][0]))\n",
    "for x in range(len(image_list)): image_list[x] = np.transpose(image_list[x], (1, 2, 0))\n",
    "print(len(image_list), len(image_list[1]), len(image_list[1][0]),len(image_list[1][0][0]))\n",
    "\n",
    "print(type(image_list), type(image_list[0]), type(image_list[0][0]), type(image_list[0][0][0]))\n",
    "print(len(y))\n",
    "\n"
   ]
  },
  {
   "cell_type": "code",
   "execution_count": 41,
   "id": "2ecee518-9e48-41db-b3d0-52cfd75b1858",
   "metadata": {},
   "outputs": [],
   "source": [
    "import os\n",
    "import zipfile\n",
    "import numpy as np\n",
    "import tensorflow as tf\n",
    "\n",
    "from tensorflow import keras\n",
    "from tensorflow.keras import layers"
   ]
  },
  {
   "cell_type": "code",
   "execution_count": 42,
   "id": "fb1624ef-d553-421a-8202-ae4ce72795fc",
   "metadata": {},
   "outputs": [
    {
     "name": "stdout",
     "output_type": "stream",
     "text": [
      "Number of samples in train and validation are 4 and 4.\n"
     ]
    }
   ],
   "source": [
    "len(image_list[1]) # We get 11 layers for one patient same if we do len(image_list[2])\n",
    "image_list[1][1] # This is each image in a numpy for patient 1\n",
    "y[:3] # These are the labels for the first three patients so we should see 1 0 0 \n",
    "\n",
    "# For now split data into 50-50 for training and validation\n",
    "x_train = image_list[4:8]\n",
    "y_train = y[4:8]\n",
    "x_val   = image_list[8:12]\n",
    "y_val   = y[8:12]\n",
    "\n",
    "print(\n",
    "    \"Number of samples in train and validation are %d and %d.\"\n",
    "    % (len(x_train), len(x_val))\n",
    ")"
   ]
  },
  {
   "cell_type": "code",
   "execution_count": 43,
   "id": "afd16636-9be2-4305-b35e-cdfb68844315",
   "metadata": {},
   "outputs": [],
   "source": [
    "# We no longer are rotating \n",
    "def train_preprocessing(volume, label):\n",
    "    \"\"\"Process training data by rotating and adding a channel.\"\"\"\n",
    "    # Rotate volume\n",
    "#   volume = rotate(volume)\n",
    "    volume = tf.expand_dims(volume, axis=3)\n",
    "    return volume, label\n",
    "\n",
    "\n",
    "def validation_preprocessing(volume, label):\n",
    "    \"\"\"Process validation data by only adding a channel.\"\"\"\n",
    "    volume = tf.expand_dims(volume, axis=3)\n",
    "    return volume, label"
   ]
  },
  {
   "cell_type": "code",
   "execution_count": 44,
   "id": "a79f1e25-801f-4ca2-84d8-f56b3ef1f0ba",
   "metadata": {},
   "outputs": [],
   "source": [
    "# Define data loaders.\n",
    "\n",
    "# We have to do this or else the third line will not work\n",
    "############# This currently works as of now as a fix\n",
    "# X_train = tf.convert_to_tensor(list(x_train), dtype=tf.float32)\n",
    "# X_val   = tf.convert_to_tensor(list(x_val), dtype=tf.float32)\n",
    "train_loader = tf.data.Dataset.from_tensor_slices((x_train, y_train))\n",
    "# train_loader = tf.data.Dataset.from_tensor_slices((list(float(x_train)), y_train))\n",
    "validation_loader = tf.data.Dataset.from_tensor_slices((x_val, y_val))\n",
    "\n",
    "batch_size = 2\n",
    "# Augment the on the fly during training.\n",
    "train_dataset = (\n",
    "    train_loader.shuffle(len(x_train))\n",
    "    .map(train_preprocessing)\n",
    "    .batch(batch_size)\n",
    "    .prefetch(2)\n",
    ")\n",
    "# Only rescale.\n",
    "validation_dataset = (\n",
    "    validation_loader.shuffle(len(x_val))\n",
    "    .map(validation_preprocessing)\n",
    "    .batch(batch_size)\n",
    "    .prefetch(2)\n",
    ")"
   ]
  },
  {
   "cell_type": "code",
   "execution_count": 47,
   "id": "f180c072-b4ad-4d38-b7a9-5727d92f67c0",
   "metadata": {},
   "outputs": [
    {
     "name": "stdout",
     "output_type": "stream",
     "text": [
      "Dimension of the CT scan is: (384, 384, 11, 1)\n"
     ]
    },
    {
     "ename": "IndexError",
     "evalue": "index 384 is out of bounds for axis 0 with size 384",
     "output_type": "error",
     "traceback": [
      "\u001b[1;31m---------------------------------------------------------------------------\u001b[0m",
      "\u001b[1;31mIndexError\u001b[0m                                Traceback (most recent call last)",
      "Input \u001b[1;32mIn [47]\u001b[0m, in \u001b[0;36m<cell line: 9>\u001b[1;34m()\u001b[0m\n\u001b[0;32m      7\u001b[0m image \u001b[38;5;241m=\u001b[39m images[\u001b[38;5;241m0\u001b[39m]\n\u001b[0;32m      8\u001b[0m \u001b[38;5;28mprint\u001b[39m(\u001b[38;5;124m\"\u001b[39m\u001b[38;5;124mDimension of the CT scan is:\u001b[39m\u001b[38;5;124m\"\u001b[39m, image\u001b[38;5;241m.\u001b[39mshape)\n\u001b[1;32m----> 9\u001b[0m plt\u001b[38;5;241m.\u001b[39mimshow(np\u001b[38;5;241m.\u001b[39msqueeze(\u001b[43mimage\u001b[49m\u001b[43m[\u001b[49m\u001b[38;5;241;43m384\u001b[39;49m\u001b[43m,\u001b[49m\u001b[43m \u001b[49m\u001b[38;5;241;43m384\u001b[39;49m\u001b[43m,\u001b[49m\u001b[43m \u001b[49m\u001b[38;5;241;43m0\u001b[39;49m\u001b[43m \u001b[49m\u001b[43m]\u001b[49m), cmap\u001b[38;5;241m=\u001b[39m\u001b[38;5;124m\"\u001b[39m\u001b[38;5;124mgray\u001b[39m\u001b[38;5;124m\"\u001b[39m)\n",
      "\u001b[1;31mIndexError\u001b[0m: index 384 is out of bounds for axis 0 with size 384"
     ]
    }
   ],
   "source": [
    "####### As we can see it is labeling y axis as 11 and x axis as 384.  We need 384 x 384 for xy axis.  This is because we have skipped the process scan phase in the code\n",
    "import matplotlib.pyplot as plt\n",
    "\n",
    "data = train_dataset.take(1)\n",
    "images, labels = list(data)[0]\n",
    "images = images.numpy()\n",
    "image = images[0]\n",
    "print(\"Dimension of the CT scan is:\", image.shape)\n",
    "plt.imshow(np.squeeze(image[384, 384, 0 ]), cmap=\"gray\")"
   ]
  },
  {
   "cell_type": "code",
   "execution_count": null,
   "id": "a4c289b0-31ae-498c-8ebb-aa2cf44d1abc",
   "metadata": {},
   "outputs": [],
   "source": []
  }
 ],
 "metadata": {
  "kernelspec": {
   "display_name": "Python 3 (ipykernel)",
   "language": "python",
   "name": "python3"
  },
  "language_info": {
   "codemirror_mode": {
    "name": "ipython",
    "version": 3
   },
   "file_extension": ".py",
   "mimetype": "text/x-python",
   "name": "python",
   "nbconvert_exporter": "python",
   "pygments_lexer": "ipython3",
   "version": "3.8.15"
  }
 },
 "nbformat": 4,
 "nbformat_minor": 5
}
