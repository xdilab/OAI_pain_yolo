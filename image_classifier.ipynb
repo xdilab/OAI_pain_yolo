{
  "nbformat": 4,
  "nbformat_minor": 0,
  "metadata": {
    "colab": {
      "provenance": []
    },
    "kernelspec": {
      "name": "python3",
      "display_name": "Python 3"
    },
    "language_info": {
      "name": "python"
    },
    "accelerator": "GPU",
    "gpuClass": "standard"
  },
  "cells": [
    {
      "cell_type": "code",
      "execution_count": 1,
      "metadata": {
        "id": "LLJoJabg6tow",
        "colab": {
          "base_uri": "https://localhost:8080/"
        },
        "outputId": "21363080-edf7-443a-bf37-00365cd74f37"
      },
      "outputs": [
        {
          "output_type": "stream",
          "name": "stdout",
          "text": [
            "Cloning into 'MICCAI2023'...\n",
            "fatal: could not read Username for 'https://github.com': No such device or address\n"
          ]
        }
      ],
      "source": [
        "!git clone https://github.com/pitthexai/MICCAI2023.git"
      ]
    },
    {
      "cell_type": "code",
      "source": [
        "import fnmatch\n",
        "import glob\n",
        "import os\n",
        "from natsort import natsorted\n",
        "from PIL import Image\n",
        "import numpy as np"
      ],
      "metadata": {
        "id": "fxD1aO1H8-9P"
      },
      "execution_count": 4,
      "outputs": []
    },
    {
      "cell_type": "code",
      "source": [
        "from google.colab import drive\n",
        "drive.mount('/content/gdrive')"
      ],
      "metadata": {
        "colab": {
          "base_uri": "https://localhost:8080/"
        },
        "id": "cc-WLji275Mz",
        "outputId": "bde06061-66fe-418e-963a-6b4964621a80"
      },
      "execution_count": 2,
      "outputs": [
        {
          "output_type": "stream",
          "name": "stdout",
          "text": [
            "Mounted at /content/gdrive\n"
          ]
        }
      ]
    },
    {
      "cell_type": "code",
      "source": [
        "# cd gdrive/MyDrive/pfx01\n",
        "import os\n",
        "os.chdir('/content/gdrive/MyDrive/Moradi_Project/knee_mri_localization')"
      ],
      "metadata": {
        "id": "15b2mdGc8pS9"
      },
      "execution_count": 3,
      "outputs": []
    },
    {
      "cell_type": "code",
      "source": [
        "dirpath = \"/content/gdrive/MyDrive/Moradi_Project/knee_mri_localization/9010060_10279506_L_NotProgressed\"\n",
        "num_layers = len(fnmatch.filter(os.listdir(dirpath), '*.jpg'))\n",
        "print(num_layers)"
      ],
      "metadata": {
        "colab": {
          "base_uri": "https://localhost:8080/"
        },
        "id": "BlU2xcBj82zb",
        "outputId": "3e325481-3b95-4fa1-b2e9-c6a1fe0d6807"
      },
      "execution_count": 5,
      "outputs": [
        {
          "output_type": "stream",
          "name": "stdout",
          "text": [
            "11\n"
          ]
        }
      ]
    },
    {
      "cell_type": "code",
      "source": [
        "import fnmatch\n",
        "import glob\n",
        "import os\n",
        "from natsort import natsorted\n",
        "from PIL import Image\n",
        "import numpy as np\n",
        "\n",
        "# Empty list to store numpy arrays\n",
        "image_list = []\n",
        "y = []\n",
        "\n",
        "# lets us know number of images in that file\n",
        "# dirpath = \"/Users/huntersylvester/Desktop/UMMC/Research/Moradi/sample_knee_mri_localization/9009067_10287112_R_Progressed\"\n",
        "# num_layers = len(fnmatch.filter(os.listdir(dirpath), '*.jpg'))\n",
        "# print(num_layers)\n",
        "\n",
        "directory = \"/content/gdrive/MyDrive/Moradi_Project/knee_mri_localization\"\n",
        "# directory = \"/Users/huntersylvester/Desktop/UMMC/Research/Moradi/Knee/knee_mri_localization\"\n",
        "# directory = \"C:\\\\Users\\\\hrmor\\\\OneDrive - University of Mississippi Medical Center\\\\04_Codes\\\\OAI_pain\\\\knee_mri_localization\"\n",
        "for filename in glob.iglob(f\"{directory}/*\"):\n",
        "    i = 0\n",
        "    os.chdir(filename)\n",
        "    x = filename.find('_NotProgressed')  # Will give -1 if phrase not in string\n",
        "    if x > 0:\n",
        "        y.append(0)  # non progressed 0\n",
        "    else:\n",
        "        y.append(1)  # progressed 1\n",
        "    image_patient = []\n",
        "    for file in natsorted(glob.glob(\"*.jpg\")):\n",
        "        i += 1\n",
        "        im = Image.open(file)\n",
        "        image_patient.append(np.array(im))\n",
        "        if i != num_layers:\n",
        "            pass #             print(f\"filename: {filename} has {i} images\")\n",
        "        else:\n",
        "            print(f\"number of layers: {i}\")\n",
        "    print(i)\n",
        "    image_list.append(np.array(image_patient))\n",
        "\n",
        "# image_list = np.array(image_list, dtype=object)\n",
        "# image_list = np.array(image_list, dtype=object)\n",
        "\n",
        "print(len(image_list), len(image_list[1]), len(image_list[1][0]),len(image_list[1][0][0]))\n",
        "for x in range(len(image_list)): image_list[x] = np.transpose(image_list[x], (1, 2, 0))\n",
        "print(len(image_list), len(image_list[1]), len(image_list[1][0]),len(image_list[1][0][0]))\n",
        "\n",
        "print(type(image_list), type(image_list[0]), type(image_list[0][0]), type(image_list[0][0][0]))\n",
        "print(len(y))"
      ],
      "metadata": {
        "colab": {
          "base_uri": "https://localhost:8080/"
        },
        "id": "pnjJWAcZ83KN",
        "outputId": "135fb1a5-1410-4569-ae7d-bd9e385b0960"
      },
      "execution_count": 6,
      "outputs": [
        {
          "output_type": "stream",
          "name": "stdout",
          "text": [
            "number of layers: 11\n",
            "11\n",
            "number of layers: 11\n",
            "11\n",
            "number of layers: 11\n",
            "11\n",
            "number of layers: 11\n",
            "11\n",
            "number of layers: 11\n",
            "11\n",
            "number of layers: 11\n",
            "11\n",
            "number of layers: 11\n",
            "11\n",
            "number of layers: 11\n",
            "11\n",
            "number of layers: 11\n",
            "11\n",
            "number of layers: 11\n",
            "11\n",
            "number of layers: 11\n",
            "11\n",
            "number of layers: 11\n",
            "11\n",
            "number of layers: 11\n",
            "11\n",
            "number of layers: 11\n",
            "11\n",
            "number of layers: 11\n",
            "11\n",
            "number of layers: 11\n",
            "11\n",
            "number of layers: 11\n",
            "11\n",
            "number of layers: 11\n",
            "11\n",
            "number of layers: 11\n",
            "11\n",
            "number of layers: 11\n",
            "11\n",
            "number of layers: 11\n",
            "11\n",
            "number of layers: 11\n",
            "11\n",
            "number of layers: 11\n",
            "11\n",
            "number of layers: 11\n",
            "11\n",
            "number of layers: 11\n",
            "11\n",
            "number of layers: 11\n",
            "11\n",
            "number of layers: 11\n",
            "11\n",
            "number of layers: 11\n",
            "11\n",
            "number of layers: 11\n",
            "11\n",
            "number of layers: 11\n",
            "11\n",
            "number of layers: 11\n",
            "11\n",
            "number of layers: 11\n",
            "11\n",
            "number of layers: 11\n",
            "11\n",
            "number of layers: 11\n",
            "11\n",
            "number of layers: 11\n",
            "11\n",
            "number of layers: 11\n",
            "11\n",
            "number of layers: 11\n",
            "11\n",
            "number of layers: 11\n",
            "11\n",
            "number of layers: 11\n",
            "11\n",
            "number of layers: 11\n",
            "11\n",
            "number of layers: 11\n",
            "11\n",
            "number of layers: 11\n",
            "11\n",
            "number of layers: 11\n",
            "11\n",
            "number of layers: 11\n",
            "11\n",
            "number of layers: 11\n",
            "11\n",
            "number of layers: 11\n",
            "11\n",
            "number of layers: 11\n",
            "11\n",
            "number of layers: 11\n",
            "11\n",
            "number of layers: 11\n",
            "11\n",
            "number of layers: 11\n",
            "11\n",
            "number of layers: 11\n",
            "11\n",
            "number of layers: 11\n",
            "11\n",
            "10\n",
            "number of layers: 11\n",
            "11\n",
            "number of layers: 11\n",
            "11\n",
            "number of layers: 11\n",
            "11\n",
            "number of layers: 11\n",
            "11\n",
            "number of layers: 11\n",
            "11\n",
            "58 11 384 384\n",
            "58 384 384 11\n",
            "<class 'list'> <class 'numpy.ndarray'> <class 'numpy.ndarray'> <class 'numpy.ndarray'>\n",
            "58\n"
          ]
        }
      ]
    },
    {
      "cell_type": "code",
      "source": [
        "import zipfile\n",
        "import tensorflow as tf\n",
        "\n",
        "from tensorflow import keras\n",
        "from tensorflow.keras import layers"
      ],
      "metadata": {
        "id": "coBsv_aX9G66"
      },
      "execution_count": 7,
      "outputs": []
    },
    {
      "cell_type": "code",
      "source": [
        "len(image_list[1]) # We get 11 layers for one patient same if we do len(image_list[2])\n",
        "image_list[1][1] # This is each image in a numpy for patient 1\n",
        "y[:3] # These are the labels for the first three patients so we should see 1 0 0 \n",
        "\n",
        "# For now split data into 50-50 for training and validation\n",
        "x_train = image_list[4:8]\n",
        "y_train = y[4:8]\n",
        "x_val   = image_list[8:12]\n",
        "y_val   = y[8:12]\n",
        "\n",
        "print(\n",
        "    \"Number of samples in train and validation are %d and %d.\"\n",
        "    % (len(x_train), len(x_val))\n",
        ")"
      ],
      "metadata": {
        "colab": {
          "base_uri": "https://localhost:8080/"
        },
        "id": "8wgVqakJ95SK",
        "outputId": "97c61cc1-81c5-4833-f971-0c6aec9e8293"
      },
      "execution_count": 14,
      "outputs": [
        {
          "output_type": "stream",
          "name": "stdout",
          "text": [
            "Number of samples in train and validation are 4 and 4.\n"
          ]
        }
      ]
    },
    {
      "cell_type": "code",
      "source": [
        "def train_preprocessing(volume, label):\n",
        "    \"\"\"Process training data by rotating and adding a channel.\"\"\"\n",
        "    # Rotate volume\n",
        "#   volume = rotate(volume)\n",
        "    volume = tf.expand_dims(volume, axis=3)\n",
        "    return volume, label\n",
        "\n",
        "\n",
        "def validation_preprocessing(volume, label):\n",
        "    \"\"\"Process validation data by only adding a channel.\"\"\"\n",
        "    volume = tf.expand_dims(volume, axis=3)\n",
        "    return volume, label"
      ],
      "metadata": {
        "id": "TS_43FmD9_oN"
      },
      "execution_count": 15,
      "outputs": []
    },
    {
      "cell_type": "code",
      "source": [
        "train_loader = tf.data.Dataset.from_tensor_slices((x_train, y_train))\n",
        "# train_loader = tf.data.Dataset.from_tensor_slices((list(float(x_train)), y_train))\n",
        "validation_loader = tf.data.Dataset.from_tensor_slices((x_val, y_val))\n",
        "\n",
        "batch_size = 2\n",
        "# Augment the on the fly during training.\n",
        "train_dataset = (\n",
        "    train_loader.shuffle(len(x_train))\n",
        "    .map(train_preprocessing)\n",
        "    .batch(batch_size)\n",
        "    .prefetch(2)\n",
        ")\n",
        "# Only rescale.\n",
        "validation_dataset = (\n",
        "    validation_loader.shuffle(len(x_val))\n",
        "    .map(validation_preprocessing)\n",
        "    .batch(batch_size)\n",
        "    .prefetch(2)\n",
        ")"
      ],
      "metadata": {
        "id": "s_3T3xiX-EkX"
      },
      "execution_count": 16,
      "outputs": []
    },
    {
      "cell_type": "code",
      "source": [
        "# I had to set padding as same for it to work and remove last maxpool3d layer\n",
        "def get_model(width=384, height=384, depth=11):\n",
        "    \"\"\"Build a 3D convolutional neural network model.\"\"\"\n",
        "\n",
        "    inputs = keras.Input((width, height, depth, 1))\n",
        "\n",
        "    x = layers.Conv3D(filters=64, kernel_size=3, activation=\"relu\", padding='same')(inputs)\n",
        "    x = layers.MaxPool3D(pool_size=2)(x)\n",
        "    x = layers.BatchNormalization()(x)\n",
        "\n",
        "    x = layers.Conv3D(filters=64, kernel_size=3, activation=\"relu\", padding='same')(x)\n",
        "    x = layers.MaxPool3D(pool_size=2)(x)\n",
        "    x = layers.BatchNormalization()(x)\n",
        "\n",
        "    x = layers.Conv3D(filters=128, kernel_size=3, activation=\"relu\", padding='same')(x)\n",
        "    x = layers.MaxPool3D(pool_size=2)(x)\n",
        "    x = layers.BatchNormalization()(x)\n",
        "\n",
        "    x = layers.Conv3D(filters=256, kernel_size=3, activation=\"relu\", padding='same')(x)\n",
        "#     x = layers.MaxPool3D(pool_size=2)(x)\n",
        "    x = layers.BatchNormalization()(x)\n",
        "\n",
        "    x = layers.GlobalAveragePooling3D()(x)\n",
        "    x = layers.Dense(units=512, activation=\"relu\")(x)\n",
        "    x = layers.Dropout(0.3)(x)\n",
        "\n",
        "    outputs = layers.Dense(units=1, activation=\"sigmoid\")(x)\n",
        "\n",
        "    # Define the model.\n",
        "    model = keras.Model(inputs, outputs, name=\"3dcnn\")\n",
        "    return model\n",
        "\n",
        "\n",
        "# Build model.\n",
        "model = get_model(width=384, height=384, depth=11)\n",
        "model.summary()"
      ],
      "metadata": {
        "colab": {
          "base_uri": "https://localhost:8080/"
        },
        "id": "CacWsyfL-HCf",
        "outputId": "1e264735-e8b2-48fd-d975-0ecad2fd53ca"
      },
      "execution_count": 17,
      "outputs": [
        {
          "output_type": "stream",
          "name": "stdout",
          "text": [
            "Model: \"3dcnn\"\n",
            "_________________________________________________________________\n",
            " Layer (type)                Output Shape              Param #   \n",
            "=================================================================\n",
            " input_1 (InputLayer)        [(None, 384, 384, 11, 1)  0         \n",
            "                             ]                                   \n",
            "                                                                 \n",
            " conv3d (Conv3D)             (None, 384, 384, 11, 64)  1792      \n",
            "                                                                 \n",
            " max_pooling3d (MaxPooling3D  (None, 192, 192, 5, 64)  0         \n",
            " )                                                               \n",
            "                                                                 \n",
            " batch_normalization (BatchN  (None, 192, 192, 5, 64)  256       \n",
            " ormalization)                                                   \n",
            "                                                                 \n",
            " conv3d_1 (Conv3D)           (None, 192, 192, 5, 64)   110656    \n",
            "                                                                 \n",
            " max_pooling3d_1 (MaxPooling  (None, 96, 96, 2, 64)    0         \n",
            " 3D)                                                             \n",
            "                                                                 \n",
            " batch_normalization_1 (Batc  (None, 96, 96, 2, 64)    256       \n",
            " hNormalization)                                                 \n",
            "                                                                 \n",
            " conv3d_2 (Conv3D)           (None, 96, 96, 2, 128)    221312    \n",
            "                                                                 \n",
            " max_pooling3d_2 (MaxPooling  (None, 48, 48, 1, 128)   0         \n",
            " 3D)                                                             \n",
            "                                                                 \n",
            " batch_normalization_2 (Batc  (None, 48, 48, 1, 128)   512       \n",
            " hNormalization)                                                 \n",
            "                                                                 \n",
            " conv3d_3 (Conv3D)           (None, 48, 48, 1, 256)    884992    \n",
            "                                                                 \n",
            " batch_normalization_3 (Batc  (None, 48, 48, 1, 256)   1024      \n",
            " hNormalization)                                                 \n",
            "                                                                 \n",
            " global_average_pooling3d (G  (None, 256)              0         \n",
            " lobalAveragePooling3D)                                          \n",
            "                                                                 \n",
            " dense (Dense)               (None, 512)               131584    \n",
            "                                                                 \n",
            " dropout (Dropout)           (None, 512)               0         \n",
            "                                                                 \n",
            " dense_1 (Dense)             (None, 1)                 513       \n",
            "                                                                 \n",
            "=================================================================\n",
            "Total params: 1,352,897\n",
            "Trainable params: 1,351,873\n",
            "Non-trainable params: 1,024\n",
            "_________________________________________________________________\n"
          ]
        }
      ]
    },
    {
      "cell_type": "code",
      "source": [
        "# Compile model.\n",
        "initial_learning_rate = 0.0001\n",
        "lr_schedule = keras.optimizers.schedules.ExponentialDecay(\n",
        "    initial_learning_rate, decay_steps=100000, decay_rate=0.96, staircase=True\n",
        ")\n",
        "model.compile(\n",
        "    loss=\"binary_crossentropy\",\n",
        "    optimizer=keras.optimizers.Adam(learning_rate=lr_schedule),\n",
        "    metrics=[\"acc\"],\n",
        ")\n",
        "\n",
        "# Define callbacks.\n",
        "checkpoint_cb = keras.callbacks.ModelCheckpoint(\n",
        "    \"3d_image_classification.h5\", save_best_only=True\n",
        ")\n",
        "early_stopping_cb = keras.callbacks.EarlyStopping(monitor=\"val_acc\", patience=15)\n",
        "\n",
        "# Train the model, doing validation at the end of each epoch\n",
        "epochs = 50\n",
        "model.fit(\n",
        "    train_dataset,\n",
        "    validation_data=validation_dataset,\n",
        "    epochs=epochs,\n",
        "    shuffle=True,\n",
        "    verbose=2,\n",
        "    callbacks=[checkpoint_cb, early_stopping_cb],\n",
        ")"
      ],
      "metadata": {
        "colab": {
          "base_uri": "https://localhost:8080/"
        },
        "id": "BHuAc6Fd-e3p",
        "outputId": "c3cc3d6e-6919-4321-a266-27f08409084b"
      },
      "execution_count": 18,
      "outputs": [
        {
          "output_type": "stream",
          "name": "stdout",
          "text": [
            "Epoch 1/50\n",
            "2/2 - 9s - loss: 0.7215 - acc: 0.2500 - val_loss: 2.3830 - val_acc: 0.2500 - 9s/epoch - 5s/step\n",
            "Epoch 2/50\n",
            "2/2 - 1s - loss: 0.5925 - acc: 1.0000 - val_loss: 2.6259 - val_acc: 0.2500 - 755ms/epoch - 378ms/step\n",
            "Epoch 3/50\n",
            "2/2 - 1s - loss: 0.5412 - acc: 1.0000 - val_loss: 3.1545 - val_acc: 0.2500 - 667ms/epoch - 334ms/step\n",
            "Epoch 4/50\n",
            "2/2 - 1s - loss: 0.5669 - acc: 0.5000 - val_loss: 3.6512 - val_acc: 0.2500 - 664ms/epoch - 332ms/step\n",
            "Epoch 5/50\n",
            "2/2 - 1s - loss: 0.4343 - acc: 1.0000 - val_loss: 3.9986 - val_acc: 0.2500 - 665ms/epoch - 332ms/step\n",
            "Epoch 6/50\n",
            "2/2 - 1s - loss: 0.5102 - acc: 0.5000 - val_loss: 4.2501 - val_acc: 0.2500 - 664ms/epoch - 332ms/step\n",
            "Epoch 7/50\n",
            "2/2 - 1s - loss: 0.3536 - acc: 1.0000 - val_loss: 4.4484 - val_acc: 0.2500 - 667ms/epoch - 334ms/step\n",
            "Epoch 8/50\n",
            "2/2 - 1s - loss: 0.9148 - acc: 0.5000 - val_loss: 4.4490 - val_acc: 0.2500 - 668ms/epoch - 334ms/step\n",
            "Epoch 9/50\n",
            "2/2 - 1s - loss: 0.3439 - acc: 1.0000 - val_loss: 4.3141 - val_acc: 0.2500 - 664ms/epoch - 332ms/step\n",
            "Epoch 10/50\n",
            "2/2 - 1s - loss: 0.4596 - acc: 0.5000 - val_loss: 4.1664 - val_acc: 0.2500 - 671ms/epoch - 335ms/step\n",
            "Epoch 11/50\n",
            "2/2 - 1s - loss: 0.2850 - acc: 1.0000 - val_loss: 4.0288 - val_acc: 0.2500 - 668ms/epoch - 334ms/step\n",
            "Epoch 12/50\n",
            "2/2 - 1s - loss: 0.4444 - acc: 0.5000 - val_loss: 3.6328 - val_acc: 0.2500 - 671ms/epoch - 335ms/step\n",
            "Epoch 13/50\n",
            "2/2 - 1s - loss: 0.2840 - acc: 1.0000 - val_loss: 3.4301 - val_acc: 0.2500 - 681ms/epoch - 340ms/step\n",
            "Epoch 14/50\n",
            "2/2 - 1s - loss: 0.3795 - acc: 1.0000 - val_loss: 3.2280 - val_acc: 0.2500 - 837ms/epoch - 418ms/step\n",
            "Epoch 15/50\n",
            "2/2 - 1s - loss: 0.7814 - acc: 0.5000 - val_loss: 2.5660 - val_acc: 0.2500 - 679ms/epoch - 339ms/step\n",
            "Epoch 16/50\n",
            "2/2 - 1s - loss: 0.2432 - acc: 1.0000 - val_loss: 2.1939 - val_acc: 0.2500 - 1s/epoch - 550ms/step\n"
          ]
        },
        {
          "output_type": "execute_result",
          "data": {
            "text/plain": [
              "<keras.callbacks.History at 0x7f45a5296e20>"
            ]
          },
          "metadata": {},
          "execution_count": 18
        }
      ]
    },
    {
      "cell_type": "code",
      "source": [
        "import matplotlib.pyplot as plt\n",
        "\n",
        "fig, ax = plt.subplots(1, 2, figsize=(20, 3))\n",
        "ax = ax.ravel()\n",
        "\n",
        "for i, metric in enumerate([\"acc\", \"loss\"]):\n",
        "    ax[i].plot(model.history.history[metric])\n",
        "    ax[i].plot(model.history.history[\"val_\" + metric])\n",
        "    ax[i].set_title(\"Model {}\".format(metric))\n",
        "    ax[i].set_xlabel(\"epochs\")\n",
        "    ax[i].set_ylabel(metric)\n",
        "    ax[i].legend([\"train\", \"val\"])"
      ],
      "metadata": {
        "colab": {
          "base_uri": "https://localhost:8080/",
          "height": 241
        },
        "id": "wUsTmABU-nCP",
        "outputId": "34ebbb2c-f768-4049-f990-9b7ffc84cd18"
      },
      "execution_count": 19,
      "outputs": [
        {
          "output_type": "display_data",
          "data": {
            "text/plain": [
              "<Figure size 1440x216 with 2 Axes>"
            ],
            "image/png": "[encoded data removed]"
          },
          "metadata": {
            "needs_background": "light"
          }
        }
      ]
    },
    {
      "cell_type": "code",
      "source": [
        "# Load best weights.\n",
        "model.load_weights(\"3d_image_classification.h5\")\n",
        "prediction = model.predict(np.expand_dims(x_val[0], axis=0))[0]\n",
        "scores = [1 - prediction[0], prediction[0]]\n",
        "\n",
        "class_names = [\"normal\", \"abnormal\"]\n",
        "for score, name in zip(scores, class_names):\n",
        "    print(\n",
        "        \"This model is %.2f percent confident that CT scan is %s\"\n",
        "        % ((100 * score), name)\n",
        "    )"
      ],
      "metadata": {
        "colab": {
          "base_uri": "https://localhost:8080/"
        },
        "id": "9_d4v8P5_Zbh",
        "outputId": "a61170a0-b4e3-4214-cfcd-72a97a1e7a7c"
      },
      "execution_count": 20,
      "outputs": [
        {
          "output_type": "stream",
          "name": "stdout",
          "text": [
            "1/1 [==============================] - 2s 2s/step\n",
            "This model is 91.08 percent confident that CT scan is normal\n",
            "This model is 8.92 percent confident that CT scan is abnormal\n"
          ]
        }
      ]
    },
    {
      "cell_type": "code",
      "source": [],
      "metadata": {
        "id": "LUThET6aAkGk"
      },
      "execution_count": null,
      "outputs": []
    }
  ]
}